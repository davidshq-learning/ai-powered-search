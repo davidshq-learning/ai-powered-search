{
 "cells": [
  {
   "cell_type": "code",
   "execution_count": 1,
   "id": "510edeed-d93b-4f79-a889-5edf263f2221",
   "metadata": {
    "tags": []
   },
   "outputs": [
    {
     "name": "stdout",
     "output_type": "stream",
     "text": [
      "\u001b[33mWARNING: The directory '/var/cache/pip' or its parent directory is not owned or is not writable by the current user. The cache has been disabled. Check the permissions and owner of that directory. If executing pip with sudo, you should use sudo's -H flag.\u001b[0m\u001b[33m\n",
      "\u001b[0mCollecting spladerunner\n",
      "  Downloading SPLADERunner-0.1.5-py3-none-any.whl.metadata (5.1 kB)\n",
      "Requirement already satisfied: tokenizers in /opt/conda/lib/python3.10/site-packages (from spladerunner) (0.13.3)\n",
      "Collecting onnxruntime-gpu (from spladerunner)\n",
      "  Downloading onnxruntime_gpu-1.18.0-cp310-cp310-manylinux_2_28_x86_64.whl.metadata (4.3 kB)\n",
      "Requirement already satisfied: numpy in /opt/conda/lib/python3.10/site-packages (from spladerunner) (1.23.5)\n",
      "Requirement already satisfied: requests in /opt/conda/lib/python3.10/site-packages (from spladerunner) (2.28.2)\n",
      "Requirement already satisfied: tqdm in /opt/conda/lib/python3.10/site-packages (from spladerunner) (4.64.1)\n",
      "Collecting coloredlogs (from onnxruntime-gpu->spladerunner)\n",
      "  Downloading coloredlogs-15.0.1-py2.py3-none-any.whl.metadata (12 kB)\n",
      "Collecting flatbuffers (from onnxruntime-gpu->spladerunner)\n",
      "  Downloading flatbuffers-24.3.25-py2.py3-none-any.whl.metadata (850 bytes)\n",
      "Requirement already satisfied: packaging in /opt/conda/lib/python3.10/site-packages (from onnxruntime-gpu->spladerunner) (23.0)\n",
      "Requirement already satisfied: protobuf in /opt/conda/lib/python3.10/site-packages (from onnxruntime-gpu->spladerunner) (4.21.12)\n",
      "Requirement already satisfied: sympy in /opt/conda/lib/python3.10/site-packages (from onnxruntime-gpu->spladerunner) (1.11.1)\n",
      "Requirement already satisfied: charset-normalizer<4,>=2 in /opt/conda/lib/python3.10/site-packages (from requests->spladerunner) (2.1.1)\n",
      "Requirement already satisfied: idna<4,>=2.5 in /opt/conda/lib/python3.10/site-packages (from requests->spladerunner) (3.4)\n",
      "Requirement already satisfied: urllib3<1.27,>=1.21.1 in /opt/conda/lib/python3.10/site-packages (from requests->spladerunner) (1.26.14)\n",
      "Requirement already satisfied: certifi>=2017.4.17 in /opt/conda/lib/python3.10/site-packages (from requests->spladerunner) (2022.12.7)\n",
      "Collecting humanfriendly>=9.1 (from coloredlogs->onnxruntime-gpu->spladerunner)\n",
      "  Downloading humanfriendly-10.0-py2.py3-none-any.whl.metadata (9.2 kB)\n",
      "Requirement already satisfied: mpmath>=0.19 in /opt/conda/lib/python3.10/site-packages (from sympy->onnxruntime-gpu->spladerunner) (1.2.1)\n",
      "Downloading SPLADERunner-0.1.5-py3-none-any.whl (6.3 kB)\n",
      "Downloading onnxruntime_gpu-1.18.0-cp310-cp310-manylinux_2_28_x86_64.whl (199.8 MB)\n",
      "\u001b[2K   \u001b[90m━━━━━━━━━━━━━━━━━━━━━━━━━━━━━━━━━━━━━━━━\u001b[0m \u001b[32m199.8/199.8 MB\u001b[0m \u001b[31m8.8 MB/s\u001b[0m eta \u001b[36m0:00:00\u001b[0m00:01\u001b[0m00:01\u001b[0m\n",
      "\u001b[?25hDownloading coloredlogs-15.0.1-py2.py3-none-any.whl (46 kB)\n",
      "\u001b[2K   \u001b[90m━━━━━━━━━━━━━━━━━━━━━━━━━━━━━━━━━━━━━━━━\u001b[0m \u001b[32m46.0/46.0 kB\u001b[0m \u001b[31m7.3 MB/s\u001b[0m eta \u001b[36m0:00:00\u001b[0m\n",
      "\u001b[?25hDownloading flatbuffers-24.3.25-py2.py3-none-any.whl (26 kB)\n",
      "Downloading humanfriendly-10.0-py2.py3-none-any.whl (86 kB)\n",
      "\u001b[2K   \u001b[90m━━━━━━━━━━━━━━━━━━━━━━━━━━━━━━━━━━━━━━━━\u001b[0m \u001b[32m86.8/86.8 kB\u001b[0m \u001b[31m28.1 MB/s\u001b[0m eta \u001b[36m0:00:00\u001b[0m\n",
      "\u001b[?25hInstalling collected packages: flatbuffers, humanfriendly, coloredlogs, onnxruntime-gpu, spladerunner\n",
      "Successfully installed coloredlogs-15.0.1 flatbuffers-24.3.25 humanfriendly-10.0 onnxruntime-gpu-1.18.0 spladerunner-0.1.5\n",
      "\n",
      "\u001b[1m[\u001b[0m\u001b[34;49mnotice\u001b[0m\u001b[1;39;49m]\u001b[0m\u001b[39;49m A new release of pip is available: \u001b[0m\u001b[31;49m24.0\u001b[0m\u001b[39;49m -> \u001b[0m\u001b[32;49m24.1.1\u001b[0m\n",
      "\u001b[1m[\u001b[0m\u001b[34;49mnotice\u001b[0m\u001b[1;39;49m]\u001b[0m\u001b[39;49m To update, run: \u001b[0m\u001b[32;49mpip install --upgrade pip\u001b[0m\n"
     ]
    }
   ],
   "source": [
    "!pip install spladerunner"
   ]
  },
  {
   "cell_type": "code",
   "execution_count": 8,
   "id": "80417cb9-ec36-46b7-8cd7-f65a82534c8a",
   "metadata": {
    "tags": []
   },
   "outputs": [
    {
     "name": "stdout",
     "output_type": "stream",
     "text": [
      "Using CPUExecutionProvider\n",
      "kimchi: [{'kim': 3.11, '##chi': 3.04, 'ki': 1.52, ',': 0.92, 'who': 0.72, 'brand': 0.56, 'genre': 0.46, 'chi': 0.45, '##chy': 0.45, 'company': 0.41, 'only': 0.39, 'take': 0.31, 'club': 0.25, 'species': 0.22, 'color': 0.16, 'type': 0.15, 'but': 0.13, 'dish': 0.12, 'hotel': 0.11, 'music': 0.09, 'style': 0.08, 'name': 0.06, 'religion': 0.01}]\n",
      "bbq: [{'bb': 2.78, 'grill': 1.85, 'barbecue': 1.36, 'dinner': 0.91, '##q': 0.78, 'dish': 0.77, 'restaurant': 0.65, 'sport': 0.46, 'food': 0.34, 'style': 0.34, 'eat': 0.24, 'a': 0.23, 'genre': 0.12, 'definition': 0.09}]\n",
      "korean bbq: [{'korean': 2.84, 'korea': 2.56, 'bb': 2.23, 'grill': 1.58, 'dish': 1.21, 'restaurant': 1.18, 'barbecue': 0.79, 'kim': 0.67, 'food': 0.64, 'dinner': 0.39, 'restaurants': 0.32, 'japanese': 0.31, 'eat': 0.27, 'hotel': 0.16, 'famous': 0.11, 'brand': 0.11, '##q': 0.06, 'diner': 0.02}]\n",
      "lasagna: [{'las': 2.87, '##ag': 2.85, '##na': 2.39, ',': 0.84, 'she': 0.5, 'species': 0.34, 'hotel': 0.33, 'club': 0.31, 'location': 0.3, 'festival': 0.29, 'company': 0.27, 'her': 0.2, 'city': 0.12, 'genre': 0.05}]\n",
      "karaoke: [{'kara': 3.04, '##oke': 2.87, 'music': 1.31, 'lara': 1.07, 'song': 1.03, 'dance': 0.97, 'style': 0.94, 'sara': 0.81, 'genre': 0.75, 'dress': 0.48, 'dish': 0.44, 'singer': 0.37, 'hannah': 0.36, 'brand': 0.31, 'who': 0.29, 'culture': 0.21, 'she': 0.17, 'mix': 0.17, 'popular': 0.12, 'girl': 0.12, 'kelly': 0.08, 'wedding': 0.0}]\n",
      "drive through: [{'through': 2.94, 'drive': 2.87, 'driving': 2.34, 'past': 1.75, 'drives': 1.65, 'thru': 1.44, 'driven': 1.22, 'enter': 0.81, 'drove': 0.81, 'pierce': 0.75, 'in': 0.72, 'by': 0.71, 'into': 0.64, 'travel': 0.59, 'mark': 0.51, ';': 0.44, 'clear': 0.41, 'transport': 0.41, 'route': 0.39, 'within': 0.36, 'vehicle': 0.3, 'via': 0.15}]\n"
     ]
    }
   ],
   "source": [
    "# One-time only init\n",
    "from spladerunner import Expander\n",
    "expander = Expander('Splade_PP_en_v1', 128) #pass model, max_seq_len\n",
    "\n",
    "\n",
    "queries = [\"kimchi\", \"bbq\", \"korean bbq\", \"lasagna\", \"karaoke\", \"drive through\"]\n",
    "\n",
    "# Sample passage expansion\n",
    "#sparse_vector_representation = expander.expand(\"The Manhattan Project and its atomic bomb helped bring an end to World War II. Its legacy of peaceful uses of atomic energy continues to have an impact on history and science.\")\n",
    "#print(sparse_rep)\n",
    "\n",
    "for query in queries:\n",
    "    print(query + \": \" + str(expander.expand(query, outformat=\"lucene\")))"
   ]
  },
  {
   "cell_type": "code",
   "execution_count": null,
   "id": "a7e60780-3d6c-4bac-80d5-9fe43e234f90",
   "metadata": {},
   "outputs": [],
   "source": []
  }
 ],
 "metadata": {
  "kernelspec": {
   "display_name": "Python 3 (ipykernel)",
   "language": "python",
   "name": "python3"
  },
  "language_info": {
   "codemirror_mode": {
    "name": "ipython",
    "version": 3
   },
   "file_extension": ".py",
   "mimetype": "text/x-python",
   "name": "python",
   "nbconvert_exporter": "python",
   "pygments_lexer": "ipython3",
   "version": "3.10.9"
  }
 },
 "nbformat": 4,
 "nbformat_minor": 5
}
